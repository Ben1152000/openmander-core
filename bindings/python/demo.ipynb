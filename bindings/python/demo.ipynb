{
 "cells": [
  {
   "cell_type": "markdown",
   "id": "59132728",
   "metadata": {},
   "source": [
    "First, use pip to install the OpenMander wheel:"
   ]
  },
  {
   "cell_type": "code",
   "execution_count": null,
   "id": "2e5e354a",
   "metadata": {},
   "outputs": [],
   "source": [
    "%pip install openmander\n",
    "import openmander as om"
   ]
  },
  {
   "cell_type": "markdown",
   "id": "8247691e",
   "metadata": {},
   "source": [
    "Next, we download the datapack for our chosen state:"
   ]
  },
  {
   "cell_type": "code",
   "execution_count": null,
   "id": "508094bb",
   "metadata": {},
   "outputs": [],
   "source": [
    "pack_path = om.download_pack('TX', path='/Users/benjamin/Programming/projects/openmander/packs', verbose=1)"
   ]
  },
  {
   "cell_type": "markdown",
   "id": "4ce38969",
   "metadata": {},
   "source": [
    "Now, we load the datapack as a Map object..."
   ]
  },
  {
   "cell_type": "code",
   "execution_count": null,
   "id": "45761722",
   "metadata": {},
   "outputs": [],
   "source": [
    "map = om.Map(pack_path)"
   ]
  },
  {
   "cell_type": "markdown",
   "id": "dfbc3742",
   "metadata": {},
   "source": [
    "...and we create a new random Plan, with a fixed number of districts."
   ]
  },
  {
   "cell_type": "code",
   "execution_count": null,
   "id": "fb7fdd03",
   "metadata": {},
   "outputs": [],
   "source": [
    "plan = om.Plan(map, num_districts=38)\n",
    "plan.randomize()"
   ]
  },
  {
   "cell_type": "markdown",
   "id": "9de7ed2a",
   "metadata": {},
   "source": [
    "Let's see what the map looks like. We will save the current plan as an svg file and view it:"
   ]
  },
  {
   "cell_type": "code",
   "execution_count": null,
   "id": "a8c125c8",
   "metadata": {},
   "outputs": [],
   "source": [
    "svg_path = '/Users/benjamin/Desktop/plan.svg'\n",
    "plan.to_svg(svg_path)\n",
    "\n",
    "from IPython.display import SVG, display\n",
    "display(SVG(filename=svg_path))"
   ]
  },
  {
   "cell_type": "markdown",
   "id": "abc62114",
   "metadata": {},
   "source": [
    "Now let's try equalizing the district populations by making naive swaps:"
   ]
  },
  {
   "cell_type": "code",
   "execution_count": null,
   "id": "d5ae9982",
   "metadata": {},
   "outputs": [],
   "source": [
    "plan.equalize(\"T_20_CENS_Total\", tolerance=0.0002, max_iter=10000)"
   ]
  },
  {
   "cell_type": "code",
   "execution_count": null,
   "id": "53d8dc19",
   "metadata": {},
   "outputs": [],
   "source": [
    "plan.to_svg(svg_path)\n",
    "display(SVG(filename=svg_path))"
   ]
  },
  {
   "cell_type": "markdown",
   "id": "2c090732",
   "metadata": {},
   "source": [
    "Finally, we will use simulated annealing to smooth out the borders while keeping the populations equal:"
   ]
  },
  {
   "cell_type": "code",
   "execution_count": null,
   "id": "89f66a4e",
   "metadata": {},
   "outputs": [],
   "source": [
    "plan.anneal_balance(series=\"T_20_CENS_Total\", max_iter=1_000_000, initial_temp=50, final_temp=0.01, boundary_factor=0.001)"
   ]
  },
  {
   "cell_type": "code",
   "execution_count": null,
   "id": "fe324223",
   "metadata": {},
   "outputs": [],
   "source": [
    "plan.to_svg(svg_path)\n",
    "display(SVG(filename=svg_path))"
   ]
  }
 ],
 "metadata": {
  "kernelspec": {
   "display_name": "Python (.venv)",
   "language": "python",
   "name": ".venv"
  },
  "language_info": {
   "codemirror_mode": {
    "name": "ipython",
    "version": 3
   },
   "file_extension": ".py",
   "mimetype": "text/x-python",
   "name": "python",
   "nbconvert_exporter": "python",
   "pygments_lexer": "ipython3",
   "version": "3.12.4"
  }
 },
 "nbformat": 4,
 "nbformat_minor": 5
}
