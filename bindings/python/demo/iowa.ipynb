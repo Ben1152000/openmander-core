{
 "cells": [
  {
   "cell_type": "code",
   "execution_count": null,
   "id": "c7574503",
   "metadata": {},
   "outputs": [],
   "source": [
    "%pip install openmander\n",
    "import openmander as om\n",
    "from IPython.display import SVG, display\n",
    "svg_path = '/Users/benjamin/Desktop/plan.svg'"
   ]
  },
  {
   "cell_type": "code",
   "execution_count": null,
   "id": "e3948de2",
   "metadata": {},
   "outputs": [],
   "source": [
    "pack_path = om.download_pack('IA', path='/Users/benjamin/Programming/projects/openmander/packs', verbose=1)"
   ]
  },
  {
   "cell_type": "code",
   "execution_count": null,
   "id": "47f0fcfc",
   "metadata": {},
   "outputs": [],
   "source": [
    "map = om.Map(pack_path)\n",
    "plan = om.Plan(map, num_districts=4)\n",
    "plan.randomize()\n",
    "\n",
    "plan.to_svg(svg_path)\n",
    "display(SVG(filename=svg_path))"
   ]
  },
  {
   "cell_type": "code",
   "execution_count": null,
   "id": "e23a71c6",
   "metadata": {},
   "outputs": [],
   "source": [
    "# plan.equalize(\"T_20_CENS_Total\", tolerance=0.0001, max_iter=20000)\n",
    "plan.anneal_balance(series=\"T_20_CENS_Total\", max_iter=5_000_000, initial_temp=10, final_temp=0.01, boundary_factor=0.005)\n",
    "# plan.recombine(1, 3)\n",
    "\n",
    "plan.to_svg(svg_path)\n",
    "display(SVG(filename=svg_path))"
   ]
  }
 ],
 "metadata": {
  "kernelspec": {
   "display_name": "Python (.venv)",
   "language": "python",
   "name": ".venv"
  },
  "language_info": {
   "codemirror_mode": {
    "name": "ipython",
    "version": 3
   },
   "file_extension": ".py",
   "mimetype": "text/x-python",
   "name": "python",
   "nbconvert_exporter": "python",
   "pygments_lexer": "ipython3",
   "version": "3.12.4"
  }
 },
 "nbformat": 4,
 "nbformat_minor": 5
}
